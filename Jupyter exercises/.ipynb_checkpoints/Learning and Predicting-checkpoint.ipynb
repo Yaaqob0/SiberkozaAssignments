{
 "cells": [
  {
   "cell_type": "code",
   "execution_count": null,
   "id": "cd195640",
   "metadata": {},
   "outputs": [],
   "source": [
    "import pandas as pd\n",
    "from sklearn.tree import DecisionTreeClassifier\n",
    "movie_data = pd.read_csv('movie.csv')\n",
    "x = movie_data.drop(columns = ['Category'])\n",
    "y = movie_data['Category']\n",
    "\n",
    "model = DecisionTreeClassifier()\n",
    "model.fit(x, y)\n",
    "prediction = model.predict([[19,1],[33,0]])\n",
    "prediction"
   ]
  }
 ],
 "metadata": {
  "kernelspec": {
   "display_name": "Python 3 (ipykernel)",
   "language": "python",
   "name": "python3"
  },
  "language_info": {
   "codemirror_mode": {
    "name": "ipython",
    "version": 3
   },
   "file_extension": ".py",
   "mimetype": "text/x-python",
   "name": "python",
   "nbconvert_exporter": "python",
   "pygments_lexer": "ipython3",
   "version": "3.9.13"
  }
 },
 "nbformat": 4,
 "nbformat_minor": 5
}
