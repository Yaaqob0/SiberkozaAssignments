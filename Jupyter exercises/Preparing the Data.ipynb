{
 "cells": [
  {
   "cell_type": "code",
   "execution_count": 10,
   "id": "8c703d94",
   "metadata": {},
   "outputs": [
    {
     "data": {
      "text/plain": [
       "0      Action and Romance\n",
       "1      Action and Romance\n",
       "2      Action and Romance\n",
       "3               Classical\n",
       "4               Classical\n",
       "5               Classical\n",
       "6             documentary\n",
       "7             documentary\n",
       "8             documentary\n",
       "9                 Romance\n",
       "10                Romance\n",
       "11                Romance\n",
       "12    Drama and Thrillera\n",
       "13    Drama and Thrillera\n",
       "14    Drama and Thrillera\n",
       "15                Mystery\n",
       "16                Mystery\n",
       "17                Mystery\n",
       "Name: Category, dtype: object"
      ]
     },
     "execution_count": 10,
     "metadata": {},
     "output_type": "execute_result"
    }
   ],
   "source": [
    "# i am using \"movie\" dataset \n",
    "\n",
    "import pandas as pd\n",
    "movie_data = pd.read_csv('movie.csv')\n",
    "x = movie_data.drop(columns = ['Category'])\n",
    "y = movie_data['Category']\n"
   ]
  },
  {
   "cell_type": "code",
   "execution_count": null,
   "id": "2fc397bc",
   "metadata": {},
   "outputs": [],
   "source": []
  }
 ],
 "metadata": {
  "kernelspec": {
   "display_name": "Python 3 (ipykernel)",
   "language": "python",
   "name": "python3"
  },
  "language_info": {
   "codemirror_mode": {
    "name": "ipython",
    "version": 3
   },
   "file_extension": ".py",
   "mimetype": "text/x-python",
   "name": "python",
   "nbconvert_exporter": "python",
   "pygments_lexer": "ipython3",
   "version": "3.9.13"
  }
 },
 "nbformat": 4,
 "nbformat_minor": 5
}
